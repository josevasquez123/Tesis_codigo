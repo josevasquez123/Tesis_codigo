{
 "cells": [
  {
   "cell_type": "code",
   "execution_count": 1,
   "metadata": {},
   "outputs": [],
   "source": [
    "from os import listdir\n",
    "from os.path import isfile, join\n",
    "import numpy as np\n",
    "import os"
   ]
  },
  {
   "cell_type": "code",
   "execution_count": 8,
   "metadata": {},
   "outputs": [
    {
     "data": {
      "text/plain": [
       "['jose_1.npy',\n",
       " 'jose_2.npy',\n",
       " 'jose_3.npy',\n",
       " 'jose_4.npy',\n",
       " 'jose_5.npy',\n",
       " 'jose_6.npy',\n",
       " 'jose_7.npy',\n",
       " 'jose_8.npy',\n",
       " 'jose_9.npy',\n",
       " 'jose_10.npy',\n",
       " 'jose_11.npy',\n",
       " 'jose_12.npy',\n",
       " 'jose_13.npy',\n",
       " 'jose_14.npy',\n",
       " 'jose_15.npy',\n",
       " 'jose_16.npy',\n",
       " 'jose_17.npy',\n",
       " 'jose_18.npy',\n",
       " 'jose_19.npy',\n",
       " 'jose_20.npy',\n",
       " 'jose_21.npy',\n",
       " 'jose_22.npy',\n",
       " 'jose_23.npy',\n",
       " 'jose_24.npy',\n",
       " 'jose_25.npy',\n",
       " 'jose_26.npy',\n",
       " 'jose_27.npy',\n",
       " 'jose_28.npy',\n",
       " 'jose_29.npy',\n",
       " 'jose_30.npy',\n",
       " 'jose_31.npy',\n",
       " 'jose_32.npy',\n",
       " 'jose_33.npy',\n",
       " 'jose_34.npy',\n",
       " 'jose_35.npy',\n",
       " 'jose_36.npy',\n",
       " 'jose_37.npy',\n",
       " 'jose_38.npy',\n",
       " 'jose_39.npy',\n",
       " 'jose_40.npy',\n",
       " 'jose_41.npy',\n",
       " 'jose_42.npy',\n",
       " 'jose_43.npy',\n",
       " 'jose_44.npy',\n",
       " 'jose_45.npy',\n",
       " 'jose_46.npy',\n",
       " 'jose_47.npy',\n",
       " 'jose_48.npy',\n",
       " 'jose_49.npy',\n",
       " 'jose_50.npy',\n",
       " 'jose_51.npy',\n",
       " 'jose_52.npy',\n",
       " 'jose_53.npy',\n",
       " 'jose_54.npy',\n",
       " 'jose_55.npy',\n",
       " 'jose_56.npy',\n",
       " 'jose_57.npy',\n",
       " 'jose_58.npy',\n",
       " 'jose_59.npy',\n",
       " 'jose_60.npy']"
      ]
     },
     "execution_count": 8,
     "metadata": {},
     "output_type": "execute_result"
    }
   ],
   "source": [
    "path = \"../Tesis_codigo/jose_db/\"\n",
    "onlyfiles = [f for f in listdir(path) if isfile(join(path, f))]\n",
    "sorted_files = sorted(onlyfiles, key=lambda x: int(x.split('_')[1][:-4]))\n",
    "sorted_files"
   ]
  },
  {
   "cell_type": "code",
   "execution_count": 9,
   "metadata": {},
   "outputs": [],
   "source": [
    "db = []\n",
    "for files in sorted_files:\n",
    "    data = np.load(path+files)\n",
    "    db.append(data)\n",
    "\n",
    "np.save(\"jose_db\",db)"
   ]
  }
 ],
 "metadata": {
  "kernelspec": {
   "display_name": "Python 3.6.6 64-bit (system)",
   "language": "python",
   "name": "python3"
  },
  "language_info": {
   "codemirror_mode": {
    "name": "ipython",
    "version": 3
   },
   "file_extension": ".py",
   "mimetype": "text/x-python",
   "name": "python",
   "nbconvert_exporter": "python",
   "pygments_lexer": "ipython3",
   "version": "3.6.6"
  },
  "orig_nbformat": 4,
  "vscode": {
   "interpreter": {
    "hash": "7004b2b320a1fec32c96bd9c475e5eea5535a0508eb5c7b189acf7bd39f88f87"
   }
  }
 },
 "nbformat": 4,
 "nbformat_minor": 2
}
